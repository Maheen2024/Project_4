{
  "nbformat": 4,
  "nbformat_minor": 0,
  "metadata": {
    "colab": {
      "provenance": [],
      "authorship_tag": "ABX9TyNLcgD7Avxo+Pi/xoIAg89P",
      "include_colab_link": true
    },
    "kernelspec": {
      "name": "python3",
      "display_name": "Python 3"
    },
    "language_info": {
      "name": "python"
    }
  },
  "cells": [
    {
      "cell_type": "markdown",
      "metadata": {
        "id": "view-in-github",
        "colab_type": "text"
      },
      "source": [
        "<a href=\"https://colab.research.google.com/github/Maheen2024/Project_4/blob/main/assignment_00_to_05/02_lists.ipynb\" target=\"_parent\"><img src=\"https://colab.research.google.com/assets/colab-badge.svg\" alt=\"Open In Colab\"/></a>"
      ]
    },
    {
      "cell_type": "code",
      "execution_count": null,
      "metadata": {
        "colab": {
          "base_uri": "https://localhost:8080/"
        },
        "id": "6Fn34TSPodEW",
        "outputId": "fd52f567-cf1a-4cda-e628-ff5caf448375"
      },
      "outputs": [
        {
          "output_type": "stream",
          "name": "stdout",
          "text": [
            "55\n"
          ]
        }
      ],
      "source": [
        "#01_add_many_number\n",
        "\n",
        "def add_many_nums(*args)->int:\n",
        "    result = 0\n",
        "    for i in args:\n",
        "        result = result + i\n",
        "    return result\n",
        "\n",
        "def main():\n",
        "  number : list = (1,2,3,4,5,6,7,8,9,10)\n",
        "  sum_of_numbers : int = add_many_nums(*number)\n",
        "  print(sum_of_numbers)\n",
        "\n",
        "if __name__ == \"__main__\":\n",
        "    main()"
      ]
    },
    {
      "cell_type": "code",
      "source": [
        "#02_double_list\n",
        "\n",
        "def double_list(a:list)->list:\n",
        "    result = []\n",
        "    for i in a:\n",
        "        result.append(i*2)\n",
        "    return result\n",
        "\n",
        "def main():\n",
        "  number : list = [1,2,3,4,5]\n",
        "  double_number : list = double_list(number)\n",
        "  print(double_number)\n",
        "\n",
        "if __name__ == \"__main__\":\n",
        "    main()\n"
      ],
      "metadata": {
        "colab": {
          "base_uri": "https://localhost:8080/"
        },
        "id": "0f2cAEUpo5XG",
        "outputId": "2404db7b-04ea-49c0-beba-c3ac145c25a0"
      },
      "execution_count": null,
      "outputs": [
        {
          "output_type": "stream",
          "name": "stdout",
          "text": [
            "[2, 4, 6, 8, 10]\n"
          ]
        }
      ]
    },
    {
      "cell_type": "code",
      "source": [
        "#04_flowing_with_data_structures\n",
        "\n",
        "def add_three_copies(my_list, data):\n",
        "  for i in range(3):\n",
        "    my_list.append(data)\n",
        "\n",
        "def main():\n",
        "  massage = input(\"Enter a massage: \")\n",
        "  my_list = []\n",
        "  add_three_copies(my_list, massage)\n",
        "  print(my_list)\n",
        "\n",
        "if __name__ == \"__main__\":\n",
        "    main()\n"
      ],
      "metadata": {
        "colab": {
          "base_uri": "https://localhost:8080/"
        },
        "id": "kxVUB-sMpB1_",
        "outputId": "1234ef58-0a76-46a2-de7f-404c579409a4"
      },
      "execution_count": null,
      "outputs": [
        {
          "output_type": "stream",
          "name": "stdout",
          "text": [
            "Enter a massage: hello world\n",
            "['hello world', 'hello world', 'hello world']\n"
          ]
        }
      ]
    },
    {
      "cell_type": "code",
      "source": [
        "#05_get_first_element\n",
        "\n",
        "def get_first_element(lst):\n",
        "    if lst:  # Check if the list is not empty\n",
        "        print(lst[0])\n",
        "\n",
        "def get_lst():\n",
        "    lst = []\n",
        "    element = input(\"Enter an element: \")\n",
        "    while element != \"\":\n",
        "        lst.append(element)\n",
        "        element = input(\"Enter an element: \")\n",
        "    return lst\n",
        "\n",
        "def main():\n",
        "    lst = get_lst()\n",
        "    get_first_element(lst)\n",
        "\n",
        "if __name__ == \"__main__\":\n",
        "    main()\n",
        "\n"
      ],
      "metadata": {
        "colab": {
          "base_uri": "https://localhost:8080/"
        },
        "id": "VwsWWneHpMNb",
        "outputId": "a1f5b14f-cb5d-4265-8285-a02dc891752a"
      },
      "execution_count": null,
      "outputs": [
        {
          "output_type": "stream",
          "name": "stdout",
          "text": [
            "Enter an element: h\n",
            "Enter an element: e\n",
            "Enter an element: l\n",
            "Enter an element: l\n",
            "Enter an element: o\n",
            "Enter an element: \n",
            "h\n"
          ]
        }
      ]
    },
    {
      "cell_type": "code",
      "source": [
        "#06_get_last_element\n",
        "\n",
        "def get_last_element(lst):\n",
        "    if lst:\n",
        "        print(lst[-1])\n",
        "\n",
        "def get_lst():\n",
        "    lst = []\n",
        "    element = input(\"Enter an element: \")\n",
        "    while element != \"\":\n",
        "        lst.append(element)\n",
        "        element = input(\"Enter an element: \")\n",
        "    return lst\n",
        "\n",
        "def main():\n",
        "  lst = get_lst()\n",
        "\n",
        "  get_last_element(lst)\n",
        "\n",
        "if __name__ == \"__main__\":\n",
        "    main()"
      ],
      "metadata": {
        "colab": {
          "base_uri": "https://localhost:8080/"
        },
        "id": "hQoFZZ8npX9N",
        "outputId": "a82f0d3a-d9a4-4b32-c9e2-202c678eda61"
      },
      "execution_count": null,
      "outputs": [
        {
          "output_type": "stream",
          "name": "stdout",
          "text": [
            "Enter an element: w\n",
            "Enter an element: o\n",
            "Enter an element: r\n",
            "Enter an element: l\n",
            "Enter an element: d\n",
            "Enter an element: \n",
            "d\n"
          ]
        }
      ]
    },
    {
      "cell_type": "code",
      "source": [
        "#07_get_list\n",
        "\n",
        "def get_lst():\n",
        "    lst = []\n",
        "    element = input(\"Enter an element: \")\n",
        "    while element:\n",
        "        lst.append(element)\n",
        "        element = input(\"Enter an element: \")\n",
        "    return lst\n",
        "\n",
        "def main():\n",
        "  lst = get_lst()\n",
        "  print(f\"Here is the list: {lst}\")\n",
        "if __name__ == \"__main__\":\n",
        "    main()\n"
      ],
      "metadata": {
        "colab": {
          "base_uri": "https://localhost:8080/"
        },
        "id": "XhLtPi9wpgMs",
        "outputId": "2aa8215a-c013-40d8-f24c-083a5222c8d6"
      },
      "execution_count": null,
      "outputs": [
        {
          "output_type": "stream",
          "name": "stdout",
          "text": [
            "Enter an element: 1\n",
            "Enter an element: 2\n",
            "Enter an element: 3\n",
            "Enter an element: \n",
            "Here is the list: ['1', '2', '3']\n"
          ]
        }
      ]
    },
    {
      "cell_type": "code",
      "source": [
        "#08_shorten\n",
        "\n",
        "MAX_LENGTH : int = 3\n",
        "\n",
        "def shorten(lst):\n",
        "    while len(lst) > MAX_LENGTH:\n",
        "        last_elem = lst.pop()\n",
        "        print(last_elem)\n",
        "\n",
        "def get_lst():\n",
        "\n",
        "    lst = []\n",
        "    elem = input(\"Please enter an element of the list or press enter to stop. \")\n",
        "    while elem != \"\":\n",
        "        lst.append(elem)\n",
        "        elem = input(\"Please enter an element of the list or press enter to stop. \")\n",
        "    return lst\n",
        "\n",
        "def main():\n",
        "    lst = get_lst()\n",
        "    shorten(lst)\n",
        "\n",
        "\n",
        "if __name__ == '__main__':\n",
        "    main()"
      ],
      "metadata": {
        "colab": {
          "base_uri": "https://localhost:8080/"
        },
        "id": "EXN6lEMQpmX7",
        "outputId": "8cbef898-9c25-40f1-9cb3-af742f12f58b"
      },
      "execution_count": null,
      "outputs": [
        {
          "output_type": "stream",
          "name": "stdout",
          "text": [
            "Please enter an element of the list or press enter to stop. a\n",
            "Please enter an element of the list or press enter to stop. b\n",
            "Please enter an element of the list or press enter to stop. c\n",
            "Please enter an element of the list or press enter to stop. d\n",
            "Please enter an element of the list or press enter to stop. e\n",
            "Please enter an element of the list or press enter to stop. f\n",
            "Please enter an element of the list or press enter to stop. g\n",
            "Please enter an element of the list or press enter to stop. \n",
            "g\n",
            "f\n",
            "e\n",
            "d\n"
          ]
        }
      ]
    }
  ]
}