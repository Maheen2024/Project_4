{
  "nbformat": 4,
  "nbformat_minor": 0,
  "metadata": {
    "colab": {
      "provenance": [],
      "include_colab_link": true
    },
    "kernelspec": {
      "name": "python3",
      "display_name": "Python 3"
    },
    "language_info": {
      "name": "python"
    }
  },
  "cells": [
    {
      "cell_type": "markdown",
      "metadata": {
        "id": "view-in-github",
        "colab_type": "text"
      },
      "source": [
        "<a href=\"https://colab.research.google.com/github/Maheen2024/Project_4/blob/main/assignment_00_to_05/03_if_statements.ipynb\" target=\"_parent\"><img src=\"https://colab.research.google.com/assets/colab-badge.svg\" alt=\"Open In Colab\"/></a>"
      ]
    },
    {
      "cell_type": "code",
      "execution_count": null,
      "metadata": {
        "id": "gKxdQO9AGeFH",
        "colab": {
          "base_uri": "https://localhost:8080/"
        },
        "outputId": "83d63cf8-a1ac-4a1c-f36e-b95f0f666d85"
      },
      "outputs": [
        {
          "output_type": "stream",
          "name": "stdout",
          "text": [
            "0\n",
            "2\n",
            "4\n",
            "6\n",
            "8\n",
            "10\n",
            "12\n",
            "14\n",
            "16\n",
            "18\n",
            "20\n",
            "22\n",
            "24\n",
            "26\n",
            "28\n",
            "30\n",
            "32\n",
            "34\n",
            "36\n",
            "38\n"
          ]
        }
      ],
      "source": [
        "#01_print_events\n",
        "def even_nums():\n",
        "  for i in range(20):\n",
        "    print(i * 2)\n",
        "\n",
        "if __name__ == '__main__':\n",
        "  even_nums()\n"
      ]
    },
    {
      "cell_type": "code",
      "source": [
        "#02_international_voting_age\n",
        "PETURKSBOUIPO_AGE : int = 16\n",
        "STANLAU_AGE : int = 25\n",
        "MAYENGUA_AGE : int = 48\n",
        "\n",
        "def voting_age():\n",
        "  user_age = int(input(\"Enter your age: \"))\n",
        "  if user_age >= PETURKSBOUIPO_AGE:\n",
        "    print(\"You are eligible to vote in PETURKSBOUIPO\")\n",
        "  else:\n",
        "    print(f\"You are not eligible to vote in PETURKSBOUIPO where the voting age is {PETURKSBOUIPO_AGE}\")\n",
        "  if user_age >= STANLAU_AGE:\n",
        "    print(\"You are eligible to vote in STANLAU\")\n",
        "  else:\n",
        "    print(f\"You are not eligible to vote in STANLAU where the voting age is {STANLAU_AGE}\")\n",
        "  if user_age >= MAYENGUA_AGE:\n",
        "    print(\"You are eligible to vote in MAYENGUA\")\n",
        "  else:\n",
        "    print(f\"You are not eligible to vote in MAYENGUA where the voting age is {MAYENGUA_AGE}\")\n",
        "\n",
        "if __name__ == '__main__':\n",
        "  voting_age()"
      ],
      "metadata": {
        "colab": {
          "base_uri": "https://localhost:8080/"
        },
        "id": "693RJYXkJPtJ",
        "outputId": "c9aefad2-ca14-4a08-fa2b-e9048925c5eb"
      },
      "execution_count": null,
      "outputs": [
        {
          "output_type": "stream",
          "name": "stdout",
          "text": [
            "Enter your age: 18\n",
            "You are eligible to vote in PETURKSBOUIPO\n",
            "You are not eligible to vote in STANLAU where the voting age is 25\n",
            "You are not eligible to vote in MAYENGUA where the voting age is 48\n"
          ]
        }
      ]
    },
    {
      "cell_type": "code",
      "source": [
        "#03_leap_year\n",
        "def leap_year():\n",
        "  year = int(input(\"Enter a year: \"))\n",
        "  if year % 4 == 0:\n",
        "    if year % 100 == 0:\n",
        "      if year % 400 == 0:\n",
        "        print(f\"{year} is a leap year\")\n",
        "      else:\n",
        "        print(f\"{year} is not a leap year\")\n",
        "    else:\n",
        "      print(f\"{year} is a leap year\")\n",
        "  else:\n",
        "    print(f\"{year} is not a leap year\")\n",
        "\n",
        "\n",
        "if __name__ == '__main__':\n",
        "  leap_year()"
      ],
      "metadata": {
        "colab": {
          "base_uri": "https://localhost:8080/"
        },
        "id": "3pL12RZfRjEP",
        "outputId": "eb4ab753-368d-49f2-bc3a-a33b09971d59"
      },
      "execution_count": null,
      "outputs": [
        {
          "output_type": "stream",
          "name": "stdout",
          "text": [
            "Enter a year: 2024\n",
            "2024 is a leap year\n"
          ]
        }
      ]
    },
    {
      "cell_type": "code",
      "source": [
        "#04_tall_enough_to_ride\n",
        "Max_height = 150\n",
        "def tall_enough_to_ride():\n",
        "  height = int(input(\"Enter your height in cm: \"))\n",
        "  if height >= Max_height:\n",
        "    print(\"You are tall enough to ride\")\n",
        "  else:\n",
        "    print(\"You are not tall enough to ride\")\n",
        "\n",
        "if __name__ == '__main__':\n",
        "  tall_enough_to_ride()"
      ],
      "metadata": {
        "colab": {
          "base_uri": "https://localhost:8080/"
        },
        "id": "sJu0xWBWMmSk",
        "outputId": "2072b8b7-c203-4fbf-d267-6e969635a655"
      },
      "execution_count": null,
      "outputs": [
        {
          "output_type": "stream",
          "name": "stdout",
          "text": [
            "Enter your height in cm: 150\n",
            "You are tall enough to ride\n"
          ]
        }
      ]
    },
    {
      "cell_type": "code",
      "source": [
        "#05_random_numbers\n",
        "import random\n",
        "\n",
        "N_NUMBER = 10\n",
        "MIN_LENGTH = 1\n",
        "MAX_LENGTH =100\n",
        "\n",
        "def random_number():\n",
        "  for i in range(N_NUMBER):\n",
        "    number = random.randint(MIN_LENGTH, MAX_LENGTH)\n",
        "    print(number)\n",
        "\n",
        "if __name__ == '__main__':\n",
        "  random_number()"
      ],
      "metadata": {
        "colab": {
          "base_uri": "https://localhost:8080/"
        },
        "id": "WPhF-UtbSEPL",
        "outputId": "56a1bcc9-91ac-4537-ce52-318ad15ba12e"
      },
      "execution_count": null,
      "outputs": [
        {
          "output_type": "stream",
          "name": "stdout",
          "text": [
            "10\n",
            "69\n",
            "67\n",
            "53\n",
            "76\n",
            "35\n",
            "47\n",
            "96\n",
            "61\n",
            "21\n"
          ]
        }
      ]
    }
  ]
}