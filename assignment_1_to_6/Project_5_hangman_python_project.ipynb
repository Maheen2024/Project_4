{
  "nbformat": 4,
  "nbformat_minor": 0,
  "metadata": {
    "colab": {
      "provenance": [],
      "authorship_tag": "ABX9TyNsuVaKWLrmy5H0+qZzZXoG",
      "include_colab_link": true
    },
    "kernelspec": {
      "name": "python3",
      "display_name": "Python 3"
    },
    "language_info": {
      "name": "python"
    }
  },
  "cells": [
    {
      "cell_type": "markdown",
      "metadata": {
        "id": "view-in-github",
        "colab_type": "text"
      },
      "source": [
        "<a href=\"https://colab.research.google.com/github/Maheen2024/Project_4/blob/main/assignment_1_to_6/Project_5_hangman_python_project.ipynb\" target=\"_parent\"><img src=\"https://colab.research.google.com/assets/colab-badge.svg\" alt=\"Open In Colab\"/></a>"
      ]
    },
    {
      "cell_type": "code",
      "execution_count": null,
      "metadata": {
        "colab": {
          "base_uri": "https://localhost:8080/"
        },
        "id": "sE5IlHcB2eEk",
        "outputId": "f117f6d6-dbc6-4ad8-9fb2-6386781fb6db"
      },
      "outputs": [
        {
          "output_type": "stream",
          "name": "stdout",
          "text": [
            "🎯 Welcome to Hangman! 🎯\n",
            "\n",
            "Word: _ _ _ _ _ _\n",
            "Attempts left: 6\n",
            "Guessed letters: None\n",
            "Guess a letter: a\n",
            "❌ Wrong guess!\n",
            "\n",
            "Word: _ _ _ _ _ _\n",
            "Attempts left: 5\n",
            "Guessed letters: a\n",
            "Guess a letter: e\n",
            "✅ Good guess!\n",
            "\n",
            "Word: _ _ _ _ _ e\n",
            "Attempts left: 5\n",
            "Guessed letters: a, e\n",
            "Guess a letter: i\n",
            "❌ Wrong guess!\n",
            "\n",
            "Word: _ _ _ _ _ e\n",
            "Attempts left: 4\n",
            "Guessed letters: a, e, i\n",
            "Guess a letter: l\n",
            "✅ Good guess!\n",
            "\n",
            "Word: _ _ _ _ l e\n",
            "Attempts left: 4\n",
            "Guessed letters: a, e, i, l\n",
            "Guess a letter: p\n",
            "❌ Wrong guess!\n",
            "\n",
            "Word: _ _ _ _ l e\n",
            "Attempts left: 3\n",
            "Guessed letters: a, e, i, l, p\n",
            "Guess a letter: b\n",
            "✅ Good guess!\n",
            "\n",
            "Word: b _ _ _ l e\n",
            "Attempts left: 3\n",
            "Guessed letters: a, b, e, i, l, p\n",
            "Guess a letter: o\n",
            "✅ Good guess!\n",
            "\n",
            "Word: b o _ _ l e\n",
            "Attempts left: 3\n",
            "Guessed letters: a, b, e, i, l, o, p\n",
            "Guess a letter: t\n",
            "✅ Good guess!\n",
            "\n",
            "🎉 Congratulations! You guessed the word: bottle 🎉\n"
          ]
        }
      ],
      "source": [
        "import random\n",
        "\n",
        "def choose_word():\n",
        "    words = [\n",
        "        # Daily-use words\n",
        "        \"apple\", \"banana\", \"grape\", \"orange\", \"strawberry\", \"chocolate\", \"coffee\", \"laptop\", \"mobile\", \"bottle\",\n",
        "        \"pencil\", \"notebook\", \"garden\", \"window\", \"kitchen\", \"bedroom\", \"mirror\", \"blanket\", \"cushion\", \"guitar\",\n",
        "        \"television\", \"vacation\", \"sunshine\", \"rainbow\", \"mountain\", \"ocean\", \"beach\", \"library\", \"cinema\", \"holiday\",\n",
        "\n",
        "        # Programming-related words\n",
        "        \"python\", \"javascript\", \"typescript\", \"compiler\", \"debugging\", \"variable\", \"function\", \"algorithm\",\n",
        "        \"framework\", \"database\", \"frontend\", \"backend\", \"fullstack\", \"developer\", \"cybersecurity\", \"authentication\",\n",
        "        \"authorization\", \"network\", \"protocol\", \"software\", \"hardware\", \"encryption\", \"artificial\", \"intelligence\",\n",
        "        \"machine\", \"learning\", \"server\", \"client\", \"internet\", \"computer\"\n",
        "    ]\n",
        "    return random.choice(words).lower()\n",
        "\n",
        "def display_word(word, guessed_letters):\n",
        "    return \" \".join(letter if letter in guessed_letters else \"_\" for letter in word)\n",
        "\n",
        "def hangman():\n",
        "    word = choose_word()\n",
        "    guessed_letters = set()\n",
        "    attempts = 6  # Max incorrect guesses\n",
        "\n",
        "    print(\"🎯 Welcome to Hangman! 🎯\")\n",
        "\n",
        "    while attempts > 0:\n",
        "        print(\"\\nWord:\", display_word(word, guessed_letters))\n",
        "        print(f\"Attempts left: {attempts}\")\n",
        "        print(f\"Guessed letters: {', '.join(sorted(guessed_letters)) if guessed_letters else 'None'}\")\n",
        "\n",
        "        guess = input(\"Guess a letter: \").lower()\n",
        "\n",
        "        if len(guess) != 1 or not guess.isalpha():\n",
        "            print(\"⚠️ Please enter a single valid letter.\")\n",
        "            continue\n",
        "\n",
        "        if guess in guessed_letters:\n",
        "            print(\"⏳ You've already guessed that letter!\")\n",
        "            continue\n",
        "\n",
        "        guessed_letters.add(guess)\n",
        "\n",
        "        if guess in word:\n",
        "            print(\"✅ Good guess!\")\n",
        "        else:\n",
        "            print(\"❌ Wrong guess!\")\n",
        "            attempts -= 1\n",
        "\n",
        "        if all(letter in guessed_letters for letter in word):\n",
        "            print(f\"\\n🎉 Congratulations! You guessed the word: {word} 🎉\")\n",
        "            break\n",
        "    else:\n",
        "        print(f\"\\n💀 Game Over! The word was: {word}\")\n",
        "\n",
        "# Run the game\n",
        "hangman()\n"
      ]
    }
  ]
}