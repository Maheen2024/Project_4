{
  "nbformat": 4,
  "nbformat_minor": 0,
  "metadata": {
    "colab": {
      "provenance": [],
      "authorship_tag": "ABX9TyNf69iQ6aXP8O0X7bO9r8b7",
      "include_colab_link": true
    },
    "kernelspec": {
      "name": "python3",
      "display_name": "Python 3"
    },
    "language_info": {
      "name": "python"
    }
  },
  "cells": [
    {
      "cell_type": "markdown",
      "metadata": {
        "id": "view-in-github",
        "colab_type": "text"
      },
      "source": [
        "<a href=\"https://colab.research.google.com/github/Maheen2024/Project_4/blob/main/assignment_1_to_6/Project_7_Password_generator.ipynb\" target=\"_parent\"><img src=\"https://colab.research.google.com/assets/colab-badge.svg\" alt=\"Open In Colab\"/></a>"
      ]
    },
    {
      "cell_type": "code",
      "execution_count": null,
      "metadata": {
        "colab": {
          "base_uri": "https://localhost:8080/"
        },
        "id": "PUtUOJX-uIET",
        "outputId": "746bf5c4-2fb9-42d4-997c-a102227b6ecc"
      },
      "outputs": [
        {
          "output_type": "stream",
          "name": "stdout",
          "text": [
            "welcome to your Password Generator\n",
            "Amount of passwords to generate: 5\n",
            "input your password length: 8\n",
            "\n",
            "here are your passwords: \n",
            "Jdr2QLlk\n",
            "s(#45Hb,\n",
            "QkJ9Kywk\n",
            "w2iD*pyv\n",
            "*ycaBLm2\n"
          ]
        }
      ],
      "source": [
        "import random\n",
        "\n",
        "print('welcome to your Password Generator')\n",
        "\n",
        "chars = 'abcdefghijklmnopqrstuvwxyzABCDEFGHIJKLMNOPQRSTUVWXYZ!@#$%^&*().,1234567890'\n",
        "\n",
        "number = input('Amount of passwords to generate: ')\n",
        "number = int(number)\n",
        "\n",
        "length = input('input your password length: ')\n",
        "length = int(length)\n",
        "\n",
        "print('\\nhere are your passwords: ')\n",
        "\n",
        "for passwords in range(number):\n",
        "    passwords = ''\n",
        "    for c in range(length):\n",
        "        passwords += random.choice(chars)\n",
        "    print(passwords)\n",
        "\n"
      ]
    }
  ]
}